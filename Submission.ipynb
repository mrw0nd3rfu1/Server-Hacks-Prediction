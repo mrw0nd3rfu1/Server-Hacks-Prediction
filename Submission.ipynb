{
 "cells": [
  {
   "cell_type": "code",
   "execution_count": 10,
   "metadata": {},
   "outputs": [],
   "source": [
    "# Importing some libraries\n",
    "# pandas to read the file\n",
    "# numpy to work on predictions (in this case convert prediction to integer)\n",
    "# sklearn to import model and other tools for checking accuracy"
   ]
  },
  {
   "cell_type": "code",
   "execution_count": 18,
   "metadata": {},
   "outputs": [],
   "source": [
    "import pandas as pd\n",
    "from sklearn.ensemble import RandomForestRegressor\n",
    "from sklearn import linear_model\n",
    "from sklearn.model_selection import train_test_split\n",
    "from sklearn.linear_model import LinearRegression\n",
    "from sklearn.metrics import mean_absolute_error,r2_score\n",
    "import numpy as np "
   ]
  },
  {
   "cell_type": "code",
   "execution_count": 19,
   "metadata": {},
   "outputs": [],
   "source": [
    "# Reading the data using pandas library"
   ]
  },
  {
   "cell_type": "code",
   "execution_count": 20,
   "metadata": {},
   "outputs": [],
   "source": [
    "X = pd.read_csv('Train.csv')\n",
    "X_test = pd.read_csv('Test.csv')\n",
    "X_sample = pd.read_csv('Test.csv')"
   ]
  },
  {
   "cell_type": "code",
   "execution_count": 21,
   "metadata": {},
   "outputs": [],
   "source": [
    "#Reviewing the dataset I got to know that Date of the incident doesn't effect the overall prediction\n",
    "#Also there were some NAN value due to which i used mean() to fill NAN values, I doesn't removed that row as it will\n",
    "#effect the overall accuracy of the data "
   ]
  },
  {
   "cell_type": "code",
   "execution_count": 22,
   "metadata": {},
   "outputs": [],
   "source": [
    "X.fillna(X.mean(),inplace=True)\n",
    "Y = X.MULTIPLE_OFFENSE\n",
    "X.drop(['INCIDENT_ID','DATE','MULTIPLE_OFFENSE'],axis=1,inplace=True)\n",
    "X_test.drop(['INCIDENT_ID','DATE'],axis=1,inplace=True)\n",
    "X_test.fillna(X_test.mean(), inplace=True)"
   ]
  },
  {
   "cell_type": "code",
   "execution_count": 23,
   "metadata": {},
   "outputs": [],
   "source": [
    "# Splitting the data for checking the perfect model using training data set only"
   ]
  },
  {
   "cell_type": "code",
   "execution_count": 13,
   "metadata": {},
   "outputs": [],
   "source": [
    "train_X,val_X,train_Y,val_Y = train_test_split(X,Y,train_size=0.8,test_size=0.2,random_state=0)"
   ]
  },
  {
   "cell_type": "code",
   "execution_count": null,
   "metadata": {},
   "outputs": [],
   "source": [
    "# As all the data is in integer or float values simple regression can be used to predict data, \n",
    "# as it works perfect for dataset with numbers\n",
    "\n",
    "# Also as the whole data was numbers due to which no data augmentation was needed \n",
    "\n",
    "# Used mean absolute value to check the loss value also used r2_score to check how is the accuracy against the valid data"
   ]
  },
  {
   "cell_type": "code",
   "execution_count": 24,
   "metadata": {},
   "outputs": [
    {
     "name": "stdout",
     "output_type": "stream",
     "text": [
      "0.07849347134118123 0.13195582829631447\n"
     ]
    }
   ],
   "source": [
    "model = LinearRegression()\n",
    "model.fit(train_X,train_Y)\n",
    "preds = model.predict(val_X)\n",
    "me = mean_absolute_error(val_Y,preds)\n",
    "r_score = r2_score(val_Y,preds)\n",
    "print(me,r_score)"
   ]
  },
  {
   "cell_type": "code",
   "execution_count": 26,
   "metadata": {},
   "outputs": [],
   "source": [
    "# After checking the accuracy of linear_regression model I went to the other best option random forest\n",
    "# As it has much better accuracy than normal regression model I chose this and as seen above the accuracy of linear regression\n",
    "# it was pretty low\n",
    "\n",
    "# As for the arguments in Random Forest model I have used these values in previous projects and these values are the one\n",
    "# which gives the best outputs for these types of data\n",
    "\n",
    "# In this case Random Forest was the best choice as it works much better with both classification and regression usage\n",
    "# It also gives better accuracy and works better with large data sets"
   ]
  },
  {
   "cell_type": "code",
   "execution_count": 25,
   "metadata": {},
   "outputs": [
    {
     "name": "stdout",
     "output_type": "stream",
     "text": [
      "0.003595976529756916 0.9632485164049036\n"
     ]
    }
   ],
   "source": [
    "model = RandomForestRegressor(n_estimators=100, random_state=1)\n",
    "model.fit(train_X,train_Y)\n",
    "preds = model.predict(val_X)\n",
    "me = mean_absolute_error(val_Y,preds)\n",
    "r_score = r2_score(val_Y,preds)\n",
    "print(me,r_score)"
   ]
  },
  {
   "cell_type": "code",
   "execution_count": null,
   "metadata": {},
   "outputs": [],
   "source": [
    "# After getting satisfactory result in the above model now I don't have need for valid Data \n",
    "# So changing the training values to all the training dataset values and prediction to test data\n",
    "\n",
    "# Using pandas dataframe to convert the prediction to csv file as sample_submission"
   ]
  },
  {
   "cell_type": "code",
   "execution_count": 27,
   "metadata": {},
   "outputs": [],
   "source": [
    "model = RandomForestRegressor(n_estimators=100, random_state=1)\n",
    "model.fit(X,Y)\n",
    "preds = model.predict(X_test)\n",
    "output = pd.DataFrame({'INCIDENT_ID':X_sample.INCIDENT_ID,'MULTIPLE_OFFENSE':preds.astype(int)})\n",
    "output.to_csv('submission.csv', index=False)"
   ]
  },
  {
   "cell_type": "code",
   "execution_count": null,
   "metadata": {},
   "outputs": [],
   "source": []
  }
 ],
 "metadata": {
  "kernelspec": {
   "display_name": "Python 3",
   "language": "python",
   "name": "python3"
  },
  "language_info": {
   "codemirror_mode": {
    "name": "ipython",
    "version": 3
   },
   "file_extension": ".py",
   "mimetype": "text/x-python",
   "name": "python",
   "nbconvert_exporter": "python",
   "pygments_lexer": "ipython3",
   "version": "3.8.2"
  }
 },
 "nbformat": 4,
 "nbformat_minor": 4
}
